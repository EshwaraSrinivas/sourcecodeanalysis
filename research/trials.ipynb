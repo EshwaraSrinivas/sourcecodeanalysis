{
 "cells": [
  {
   "cell_type": "code",
   "execution_count": null,
   "metadata": {},
   "outputs": [],
   "source": [
    "print(\"Python Settings (Ok)\")"
   ]
  },
  {
   "cell_type": "code",
   "execution_count": null,
   "metadata": {},
   "outputs": [],
   "source": [
    "from git import Repo\n",
    "import os\n",
    "from langchain.text_splitter import Language\n",
    "from langchain.document_loaders.generic import GenericLoader\n",
    "from langchain.document_loaders.parsers import LanguageParser\n",
    "from langchain.text_splitter import RecursiveCharacterTextSplitter\n",
    "from langchain.embeddings.openai import OpenAIEmbeddings\n",
    "from langchain.vectorstores import Chroma\n",
    "from langchain.chat_models import ChatOpenAI\n",
    "from langchain.memory import ConversationSummaryMemory\n",
    "from langchain.chains import ConversationalRetrievalChain\n",
    "\n",
    "#!pip install -q langchain_community \n",
    "from langchain_community.llms import Ollama"
   ]
  },
  {
   "cell_type": "code",
   "execution_count": null,
   "metadata": {},
   "outputs": [],
   "source": [
    "%pwd"
   ]
  },
  {
   "cell_type": "code",
   "execution_count": null,
   "metadata": {},
   "outputs": [],
   "source": [
    "!mkdir test_repo"
   ]
  },
  {
   "cell_type": "code",
   "execution_count": null,
   "metadata": {},
   "outputs": [],
   "source": [
    "repo_path = \"test_repo/\"\n",
    "repo = Repo.clone_from(\"https://github.com/ram541619/CustomerOnboardFlow\", to_path=repo_path)\n",
    "print (repo)\n",
    "print (repo_path)"
   ]
  },
  {
   "cell_type": "code",
   "execution_count": null,
   "metadata": {},
   "outputs": [],
   "source": [
    "import re\n",
    "import os\n",
    "\n",
    "def find_dotnet_core_apis(directory_path):\n",
    "    api_routes = []\n",
    "    # Regular expressions to match route attributes and HTTP methods\n",
    "    route_pattern = r'^\\s*\\[Route\\(\"([^\\)]+)\"\\)\\]'\n",
    "    http_method_pattern = r\"\\[Http(Get|Post|Put|Delete|Patch|Options|Head)\\s*(?:\\((.*?)\\))?\\]\"\n",
    "\n",
    "    # Walk through all the .cs files in the directory\n",
    "    for root, dirs, files in os.walk(directory_path):\n",
    "        for file in files:\n",
    "            if file.endswith(\".cs\"):\n",
    "                file_path = os.path.join(root, file)\n",
    "                with open(file_path, 'r', encoding='utf-8') as f:\n",
    "                    lines = f.readlines()\n",
    "                    # Check for API routes and HTTP methods in the file\n",
    "                    current_route = None\n",
    "                    for line in lines:\n",
    "                        route_match = re.match(route_pattern, line.strip())\n",
    "                        if route_match:\n",
    "                            # Extract the base route of the controller\n",
    "                            current_route = route_match.group(1)\n",
    "                        \n",
    "                        http_method_match = re.match(http_method_pattern, line.strip())\n",
    "                        if http_method_match:\n",
    "                            # Extract the HTTP method (e.g., GET, POST, etc.)\n",
    "                            http_method = http_method_match.group(1).strip()\n",
    "                            route_suffix = http_method_match.group(2)  # Optional route parameter\n",
    "                            api_route = current_route\n",
    "                            if route_suffix:\n",
    "                                api_route += f\"/{route_suffix}\"\n",
    "                            api_route += f\" [{http_method.upper()}]\"\n",
    "                            api_routes.append(api_route)\n",
    "    return api_routes\n",
    "\n",
    "# Example usage\n",
    "directory_path = repo_path \n",
    "api_routes = find_dotnet_core_apis(directory_path)\n",
    "for route in api_routes:\n",
    "    print(route)"
   ]
  },
  {
   "cell_type": "code",
   "execution_count": null,
   "metadata": {},
   "outputs": [],
   "source": [
    "from langchain_community.llms import Ollama\n",
    "\n",
    "def generate_bdd_tests(api_routes):\n",
    "    # Initialize the Ollama model\n",
    "    model = Ollama(model=\"llama3.2:1B\") \n",
    "    \n",
    "    # Create BDD-style test generation prompt\n",
    "    prompt = f\"\"\"\n",
    "    Generate BDD-style (Gherkin syntax) test cases for the following API routes. \n",
    "    The API routes are as follows:\n",
    "    {api_routes}\n",
    "    The tests should cover different HTTP methods like GET, POST, PUT, DELETE, and edge cases.\n",
    "    \"\"\"\n",
    "\n",
    "    # Generate the response using Ollama\n",
    "    response = model.invoke(input=prompt)\n",
    "\n",
    "    return response.strip()\n",
    "\n",
    "bdd_tests= generate_bdd_tests(api_routes)\n",
    "print(bdd_tests)"
   ]
  },
  {
   "cell_type": "code",
   "execution_count": null,
   "metadata": {},
   "outputs": [],
   "source": []
  }
 ],
 "metadata": {
  "kernelspec": {
   "display_name": "ragapp",
   "language": "python",
   "name": "python3"
  },
  "language_info": {
   "codemirror_mode": {
    "name": "ipython",
    "version": 3
   },
   "file_extension": ".py",
   "mimetype": "text/x-python",
   "name": "python",
   "nbconvert_exporter": "python",
   "pygments_lexer": "ipython3",
   "version": "3.10.16"
  }
 },
 "nbformat": 4,
 "nbformat_minor": 2
}
